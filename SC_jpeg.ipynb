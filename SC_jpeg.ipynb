{
 "cells": [
  {
   "attachments": {},
   "cell_type": "markdown",
   "metadata": {},
   "source": [
    "# Microsoft data"
   ]
  },
  {
   "cell_type": "code",
   "execution_count": 24,
   "metadata": {},
   "outputs": [
    {
     "name": "stdout",
     "output_type": "stream",
     "text": [
      "input: (4096, 64) target: (4096, 64)\n",
      "train input: (3686, 64) train target: (3686, 64)\n"
     ]
    }
   ],
   "source": [
    "from dianet import *\n",
    "from torch import nn\n",
    "import torch\n",
    "import os\n",
    "import numpy as np\n",
    "os.environ['KMP_DUPLICATE_LIB_OK'] = 'True'\n",
    "import matplotlib.pyplot as plt\n",
    "import cv2\n",
    "\n",
    "def read_data(file_path):\n",
    "    with open(file_path, 'r') as file:\n",
    "        lines = file.readlines()\n",
    "    \n",
    "    input_data = []\n",
    "    target_data = []\n",
    "    \n",
    "    for i, line in enumerate(lines):\n",
    "        # print(i, line)\n",
    "        if i % 2 == 0:  # Input data (rows 1, 3, 5, 7, ...)\n",
    "            input_data.append([float(x) for x in line.strip().split()])\n",
    "        else:          # Target data (rows 2, 4, 6, 8, ...)\n",
    "            target_data.append([float(x) for x in line.strip().split()])\n",
    "\n",
    "    # Convert to NumPy arrays and reshape\n",
    "    input_array = np.array(input_data).reshape(-1, 64)\n",
    "    target_array = np.array(target_data).reshape(-1, 64)\n",
    "    \n",
    "    return input_array, target_array\n",
    "\n",
    "input_data, target_data = read_data('jpegdata/aggregated.txt')\n",
    "print(\"input:\", input_data.shape, \"target:\", target_data.shape)\n",
    "\n",
    "# split data into train and test, train tset split\n",
    "from sklearn.model_selection import train_test_split\n",
    "train_in, test_in, train_target, test_target = train_test_split(input_data, target_data, test_size=0.1, random_state=42)\n",
    "print(\"train input:\", train_in.shape, \"train target:\", train_target.shape)\n",
    "\n",
    "train_in, train_target = torch.from_numpy(train_in).float(), torch.from_numpy(train_target).float()\n",
    "test_in, test_target = torch.from_numpy(test_in).float(), torch.from_numpy(test_target).float()\n"
   ]
  },
  {
   "cell_type": "code",
   "execution_count": 25,
   "metadata": {},
   "outputs": [],
   "source": [
    "class dianet(nn.Module):\n",
    "    def __init__(self):\n",
    "        super(dianet, self).__init__()\n",
    "        self.fc1 = nn.Linear(64, 65)\n",
    "        self.fc2 = nn.Linear(65, 64)\n",
    "\n",
    "    def make_mask(self, in_dim, out_dim):\n",
    "        assert in_dim + 1 == out_dim\n",
    "        mask = torch.zeros(out_dim, in_dim)\n",
    "        for i in range(in_dim):\n",
    "            mask[i, i] = 1\n",
    "            mask[i + 1, i] = 1\n",
    "        return mask\n",
    "    \n",
    "    def forward(self, x, dwn, up):\n",
    "        self.fc1.weight.data *= self.make_mask(64, 65)\n",
    "        self.fc1.weight.data = torch.clamp(self.fc1.weight.data, min=dwn, max=up)\n",
    "        self.fc1.bias.data = torch.clamp(self.fc1.bias.data, min=dwn, max=up)\n",
    "        x1 = torch.sigmoid(self.fc1(x)) # 65\n",
    "\n",
    "        self.fc2.weight.data *= self.make_mask(64, 65).T\n",
    "        self.fc2.weight.data = torch.clamp(self.fc2.weight.data, min=dwn, max=up)\n",
    "        self.fc2.bias.data = torch.clamp(self.fc2.bias.data, min=dwn, max=up)\n",
    "        x2 = self.fc2(x1) # 64\n",
    "        x2_ = x2 + x\n",
    "        return x2_"
   ]
  },
  {
   "cell_type": "code",
   "execution_count": 26,
   "metadata": {},
   "outputs": [
    {
     "name": "stdout",
     "output_type": "stream",
     "text": [
      "saved at 0  with loss tensor(0.0135)\n",
      "saved at 1  with loss tensor(0.0035)\n",
      "saved at 2  with loss tensor(0.0010)\n",
      "saved at 3  with loss tensor(0.0007)\n",
      "saved at 4  with loss tensor(0.0007)\n",
      "saved at 5  with loss tensor(0.0007)\n",
      "saved at 6  with loss tensor(0.0007)\n",
      "saved at 7  with loss tensor(0.0007)\n",
      "saved at 8  with loss tensor(0.0007)\n",
      "saved at 9  with loss tensor(0.0007)\n",
      "saved at 10  with loss tensor(0.0007)\n",
      "saved at 11  with loss tensor(0.0007)\n",
      "saved at 12  with loss tensor(0.0007)\n",
      "saved at 13  with loss tensor(0.0007)\n",
      "saved at 14  with loss tensor(0.0007)\n",
      "saved at 15  with loss tensor(0.0007)\n",
      "saved at 16  with loss tensor(0.0007)\n",
      "saved at 17  with loss tensor(0.0007)\n",
      "saved at 18  with loss tensor(0.0007)\n",
      "saved at 19  with loss tensor(0.0007)\n",
      "saved at 20  with loss tensor(0.0007)\n",
      "saved at 21  with loss tensor(0.0007)\n",
      "saved at 22  with loss tensor(0.0007)\n",
      "saved at 23  with loss tensor(0.0007)\n",
      "saved at 24  with loss tensor(0.0007)\n",
      "saved at 25  with loss tensor(0.0007)\n",
      "saved at 26  with loss tensor(0.0007)\n",
      "saved at 27  with loss tensor(0.0007)\n",
      "saved at 28  with loss tensor(0.0007)\n",
      "saved at 29  with loss tensor(0.0007)\n",
      "saved at 30  with loss tensor(0.0007)\n",
      "saved at 31  with loss tensor(0.0007)\n",
      "saved at 32  with loss tensor(0.0007)\n",
      "saved at 33  with loss tensor(0.0007)\n"
     ]
    }
   ],
   "source": [
    "model = dianet()\n",
    "# model.load_state_dict(torch.load('jpegdata/dianet.pth'))\n",
    "\n",
    "criterion = nn.MSELoss()\n",
    "optimizer = torch.optim.Adam(model.parameters(), lr=0.001)\n",
    "\n",
    "minloss = 100\n",
    "for epoch in range(100):\n",
    "    batchsize = 1\n",
    "    epoch_loss = 0\n",
    "    count = 0\n",
    "    for i in range(0, train_in.shape[0], batchsize):\n",
    "        x = train_in[i:i+batchsize]\n",
    "        y = train_target[i:i+batchsize]\n",
    "        optimizer.zero_grad()\n",
    "        outputs = model(x,-1,1)\n",
    "        loss = criterion(outputs, y)\n",
    "        loss.backward()\n",
    "        optimizer.step()\n",
    "        epoch_loss += loss.item()\n",
    "        count += 1\n",
    "    epoch_loss /= count\n",
    "    # test model\n",
    "    model.eval()\n",
    "    with torch.no_grad():\n",
    "        test_loss = criterion(model(test_in,-1,1), test_target)\n",
    "        if test_loss < minloss:\n",
    "            minloss = test_loss\n",
    "            torch.save(model.state_dict(), 'jpegdata/dianet-11.pth')\n",
    "            print('saved at', epoch, ' with loss', minloss)"
   ]
  },
  {
   "cell_type": "code",
   "execution_count": 27,
   "metadata": {},
   "outputs": [
    {
     "name": "stdout",
     "output_type": "stream",
     "text": [
      "test MSE loss:  0.0006787823513150215\n",
      "root-mean-square (RMS) difference 0.10759059\n"
     ]
    },
    {
     "data": {
      "image/png": "[encoded data removed]",
      "text/plain": [
       "<Figure size 640x480 with 1 Axes>"
      ]
     },
     "metadata": {},
     "output_type": "display_data"
    },
    {
     "data": {
      "image/png": "[encoded data removed]",
      "text/plain": [
       "<Figure size 640x480 with 1 Axes>"
      ]
     },
     "metadata": {},
     "output_type": "display_data"
    },
    {
     "data": {
      "image/png": "[encoded data removed]",
      "text/plain": [
       "<Figure size 640x480 with 1 Axes>"
      ]
     },
     "metadata": {},
     "output_type": "display_data"
    },
    {
     "data": {
      "image/png": "[encoded data removed]",
      "text/plain": [
       "<Figure size 640x480 with 1 Axes>"
      ]
     },
     "metadata": {},
     "output_type": "display_data"
    }
   ],
   "source": [
    "model = dianet()\n",
    "criterion = nn.MSELoss()\n",
    "model.load_state_dict(torch.load('jpegdata/dianet-11.pth'))\n",
    "model.eval()\n",
    "outputs = model(test_in, -1,1)\n",
    "loss = criterion(outputs, test_target)\n",
    "print('test MSE loss: ', loss.item())\n",
    "\n",
    "def image_difference_error_rate(image1, image2):\n",
    "    if image1.shape != image2.shape:\n",
    "        raise ValueError(\"The two images must have the same dimensions.\")\n",
    "\n",
    "    # Calculate the squared difference between the two images\n",
    "    diff = (image1 - image2) ** 2\n",
    "\n",
    "    # Calculate the mean squared difference\n",
    "    mean_squared_diff = np.mean(diff)\n",
    "\n",
    "    # Take the square root to get the root mean square difference\n",
    "    rms_diff = np.sqrt(mean_squared_diff)\n",
    "\n",
    "    # Normalize the RMS difference to get the error rate\n",
    "    error_rate = rms_diff / max(np.max(image1), np.max(image2))\n",
    "\n",
    "    return error_rate\n",
    "\n",
    "print('root-mean-square (RMS) difference', image_difference_error_rate(outputs.detach().numpy(), test_target.detach().numpy()))\n",
    "\n",
    "# concat input, output, target into 1 image, horizontal, 1 row\n",
    "def concat_images(imga, imgb, imgc):\n",
    "    \"\"\"\n",
    "    Combines three color image ndarrays side-by-side to make a new\n",
    "    image ndarray.\n",
    "    \"\"\"\n",
    "    ha, wa = imga.shape[:2]\n",
    "    hb, wb = imgb.shape[:2]\n",
    "    hc, wc = imgc.shape[:2]\n",
    "    max_height = np.max([ha, hb, hc])\n",
    "    total_width = wa + wb + wc\n",
    "    new_img = np.zeros(shape=(max_height, total_width))\n",
    "    new_img[:ha, :wa] = imga\n",
    "    new_img[:hb, wa:wa + wb] = imgb\n",
    "    new_img[:hc, wa + wb:wa + wb + wc] = imgc\n",
    "    return new_img\n",
    "\n",
    "# show 10 images\n",
    "for i in range(4):\n",
    "    img = concat_images(test_in[i].reshape(8,8).detach().numpy(),\n",
    "                         outputs[i].reshape(8,8).detach().numpy(), \n",
    "                         test_target[i].reshape(8,8).detach().numpy())\n",
    "    plt.imshow(img, cmap='gray')\n",
    "    plt.title('input,                   output,                   target')\n",
    "    plt.show()\n"
   ]
  },
  {
   "cell_type": "code",
   "execution_count": 22,
   "metadata": {},
   "outputs": [
    {
     "name": "stdout",
     "output_type": "stream",
     "text": [
      "test MSE loss:  0.00012139668979216367\n",
      "root-mean-square (RMS) difference 0.057496555\n"
     ]
    },
    {
     "data": {
      "image/png": "[encoded data removed]",
      "text/plain": [
       "<Figure size 640x480 with 1 Axes>"
      ]
     },
     "metadata": {},
     "output_type": "display_data"
    },
    {
     "data": {
      "image/png": "[encoded data removed]",
      "text/plain": [
       "<Figure size 640x480 with 1 Axes>"
      ]
     },
     "metadata": {},
     "output_type": "display_data"
    },
    {
     "data": {
      "image/png": "[encoded data removed]",
      "text/plain": [
       "<Figure size 640x480 with 1 Axes>"
      ]
     },
     "metadata": {},
     "output_type": "display_data"
    },
    {
     "data": {
      "image/png": "[encoded data removed]",
      "text/plain": [
       "<Figure size 640x480 with 1 Axes>"
      ]
     },
     "metadata": {},
     "output_type": "display_data"
    }
   ],
   "source": [
    "model = dianet()\n",
    "criterion = nn.MSELoss()\n",
    "model.load_state_dict(torch.load('jpegdata/dianet_nolimit.pth'))\n",
    "model.eval()\n",
    "outputs = model(test_in, -100,100)\n",
    "loss = criterion(outputs, test_target)\n",
    "print('test MSE loss: ', loss.item())\n",
    "\n",
    "def image_difference_error_rate(image1, image2):\n",
    "    if image1.shape != image2.shape:\n",
    "        raise ValueError(\"The two images must have the same dimensions.\")\n",
    "\n",
    "    # Calculate the squared difference between the two images\n",
    "    diff = (image1 - image2) ** 2\n",
    "    # Calculate the mean squared difference\n",
    "    mean_squared_diff = np.mean(diff)\n",
    "    # Take the square root to get the root mean square difference\n",
    "    rms_diff = np.sqrt(mean_squared_diff)\n",
    "    # Normalize the RMS difference to get the error rate\n",
    "    error_rate = rms_diff / max(np.max(image1), np.max(image2))\n",
    "\n",
    "    return error_rate\n",
    "\n",
    "\n",
    "print('root-mean-square (RMS) difference', image_difference_error_rate(outputs.detach().numpy(), test_target.detach().numpy()))\n",
    "\n",
    "# concat input, output, target into 1 image, horizontal, 1 row\n",
    "def concat_images(imga, imgb, imgc):\n",
    "    \"\"\"\n",
    "    Combines three color image ndarrays side-by-side to make a new\n",
    "    image ndarray.\n",
    "    \"\"\"\n",
    "    ha, wa = imga.shape[:2]\n",
    "    hb, wb = imgb.shape[:2]\n",
    "    hc, wc = imgc.shape[:2]\n",
    "    max_height = np.max([ha, hb, hc])\n",
    "    total_width = wa + wb + wc\n",
    "    new_img = np.zeros(shape=(max_height, total_width))\n",
    "    new_img[:ha, :wa] = imga\n",
    "    new_img[:hb, wa:wa + wb] = imgb\n",
    "    new_img[:hc, wa + wb:wa + wb + wc] = imgc\n",
    "    return new_img\n",
    "\n",
    "# show 10 images\n",
    "for i in range(4):\n",
    "    img = concat_images(test_in[i].reshape(8,8).detach().numpy(),\n",
    "                         outputs[i].reshape(8,8).detach().numpy(), \n",
    "                         test_target[i].reshape(8,8).detach().numpy())\n",
    "    plt.imshow(img, cmap='gray')\n",
    "    plt.title('input,                   output,                   target')\n",
    "    plt.show()"
   ]
  },
  {
   "attachments": {},
   "cell_type": "markdown",
   "metadata": {},
   "source": [
    "# Clamp 0,1"
   ]
  },
  {
   "cell_type": "code",
   "execution_count": 3,
   "metadata": {},
   "outputs": [
    {
     "name": "stdout",
     "output_type": "stream",
     "text": [
      "saved at 0  with loss tensor(0.0387)\n",
      "saved at 1  with loss tensor(0.0379)\n",
      "saved at 2  with loss tensor(0.0377)\n",
      "saved at 3  with loss tensor(0.0375)\n",
      "saved at 4  with loss tensor(0.0374)\n",
      "saved at 5  with loss tensor(0.0374)\n",
      "saved at 6  with loss tensor(0.0374)\n",
      "saved at 7  with loss tensor(0.0373)\n",
      "saved at 8  with loss tensor(0.0373)\n",
      "saved at 9  with loss tensor(0.0373)\n",
      "saved at 10  with loss tensor(0.0373)\n",
      "saved at 11  with loss tensor(0.0373)\n",
      "saved at 12  with loss tensor(0.0373)\n",
      "saved at 13  with loss tensor(0.0373)\n",
      "saved at 14  with loss tensor(0.0373)\n",
      "saved at 15  with loss tensor(0.0373)\n",
      "saved at 16  with loss tensor(0.0373)\n",
      "saved at 17  with loss tensor(0.0373)\n",
      "saved at 18  with loss tensor(0.0373)\n",
      "saved at 19  with loss tensor(0.0373)\n",
      "saved at 20  with loss tensor(0.0373)\n",
      "saved at 21  with loss tensor(0.0373)\n",
      "saved at 22  with loss tensor(0.0373)\n",
      "saved at 23  with loss tensor(0.0373)\n",
      "saved at 24  with loss tensor(0.0373)\n",
      "saved at 25  with loss tensor(0.0373)\n",
      "saved at 26  with loss tensor(0.0373)\n",
      "saved at 27  with loss tensor(0.0373)\n",
      "saved at 28  with loss tensor(0.0373)\n",
      "saved at 29  with loss tensor(0.0373)\n",
      "saved at 30  with loss tensor(0.0373)\n",
      "saved at 31  with loss tensor(0.0373)\n",
      "saved at 32  with loss tensor(0.0373)\n",
      "saved at 33  with loss tensor(0.0373)\n",
      "saved at 34  with loss tensor(0.0373)\n",
      "saved at 35  with loss tensor(0.0373)\n",
      "saved at 36  with loss tensor(0.0373)\n",
      "saved at 37  with loss tensor(0.0373)\n",
      "saved at 38  with loss tensor(0.0373)\n",
      "saved at 39  with loss tensor(0.0373)\n",
      "saved at 40  with loss tensor(0.0373)\n",
      "saved at 41  with loss tensor(0.0373)\n",
      "saved at 42  with loss tensor(0.0373)\n",
      "saved at 43  with loss tensor(0.0373)\n",
      "saved at 46  with loss tensor(0.0373)\n",
      "saved at 47  with loss tensor(0.0373)\n",
      "saved at 48  with loss tensor(0.0373)\n",
      "saved at 49  with loss tensor(0.0373)\n",
      "saved at 50  with loss tensor(0.0373)\n",
      "saved at 52  with loss tensor(0.0373)\n",
      "saved at 85  with loss tensor(0.0373)\n",
      "saved at 89  with loss tensor(0.0373)\n",
      "saved at 90  with loss tensor(0.0373)\n",
      "saved at 93  with loss tensor(0.0373)\n",
      "saved at 94  with loss tensor(0.0373)\n",
      "saved at 95  with loss tensor(0.0373)\n",
      "saved at 98  with loss tensor(0.0373)\n",
      "saved at 99  with loss tensor(0.0373)\n"
     ]
    }
   ],
   "source": [
    "model = dianet()\n",
    "# model = baseline()\n",
    "# model.load_state_dict(torch.load('jpegdata/dianet.pth'))\n",
    "\n",
    "criterion = nn.MSELoss()\n",
    "optimizer = torch.optim.Adam(model.parameters(), lr=0.001)\n",
    "\n",
    "minloss = 100\n",
    "for epoch in range(2000):\n",
    "    batchsize = 2\n",
    "    epoch_loss = 0\n",
    "    count = 0\n",
    "    for i in range(0, train_in.shape[0], batchsize):\n",
    "        x = train_in[i:i+batchsize]\n",
    "        y = train_target[i:i+batchsize]\n",
    "        optimizer.zero_grad()\n",
    "        outputs = model(x,0,1)\n",
    "        loss = criterion(outputs, y)\n",
    "        loss.backward()\n",
    "        optimizer.step()\n",
    "        epoch_loss += loss.item()\n",
    "        count += 1\n",
    "    epoch_loss /= count\n",
    "    # test model\n",
    "    model.eval()\n",
    "    with torch.no_grad():\n",
    "        test_loss = criterion(model(test_in,0,1), test_target)\n",
    "        if test_loss < minloss:\n",
    "            minloss = test_loss\n",
    "            torch.save(model.state_dict(), 'jpegdata/dianet01.pth')\n",
    "            print('saved at', epoch, ' with loss', minloss)"
   ]
  },
  {
   "cell_type": "code",
   "execution_count": 4,
   "metadata": {},
   "outputs": [
    {
     "name": "stdout",
     "output_type": "stream",
     "text": [
      "test MSE loss:  0.03727294132113457\n",
      "Mean relative error 0.35132498\n"
     ]
    },
    {
     "data": {
      "image/png": "[encoded data removed]",
      "text/plain": [
       "<Figure size 1000x1000 with 3 Axes>"
      ]
     },
     "metadata": {},
     "output_type": "display_data"
    }
   ],
   "source": [
    "model = dianet() # test loss:  0.00010453681170474738, Mean relative error 0.42858585351850925\n",
    "criterion = nn.MSELoss()\n",
    "model.load_state_dict(torch.load('jpegdata/dianet01.pth'))\n",
    "# model.load_state_dict(torch.load('jpegdata/baseline.pth'))\n",
    "model.eval()\n",
    "outputs = model(test_in, 0,1)\n",
    "loss = criterion(outputs, test_target)\n",
    "print('test MSE loss: ', loss.item())\n",
    "\n",
    "import numpy as np\n",
    "\n",
    "def image_difference_error_rate(image1, image2):\n",
    "    if image1.shape != image2.shape:\n",
    "        raise ValueError(\"The two images must have the same dimensions.\")\n",
    "\n",
    "    # Calculate the absolute difference between the two images\n",
    "    diff = np.abs(image1 - image2)\n",
    "\n",
    "    # Calculate the mean difference error\n",
    "    mean_diff_error = np.mean(diff)\n",
    "\n",
    "    # Normalize the mean difference error to get the error rate\n",
    "    error_rate = mean_diff_error / max(np.max(image1), np.max(image2))\n",
    "\n",
    "    return error_rate\n",
    "\n",
    "print('Mean relative error', image_difference_error_rate(outputs.detach().numpy(), test_target.detach().numpy()))\n",
    "\n",
    "# plot\n",
    "plt.figure(figsize=(10, 10))\n",
    "plt.subplot(1, 3, 1)\n",
    "plt.imshow(test_in[0].reshape(8, 8), cmap='gray')\n",
    "plt.title('Input')\n",
    "plt.subplot(1, 3, 2)\n",
    "plt.imshow(outputs[0].detach().numpy().reshape(8, 8), cmap='gray')\n",
    "plt.title('Output')\n",
    "plt.subplot(1, 3, 3)\n",
    "plt.imshow(test_target[0].numpy().reshape(8, 8), cmap='gray')\n",
    "plt.title('Target')\n",
    "plt.show()\n"
   ]
  }
 ],
 "metadata": {
  "kernelspec": {
   "display_name": "CondaPy39",
   "language": "python",
   "name": "python3"
  },
  "language_info": {
   "codemirror_mode": {
    "name": "ipython",
    "version": 3
   },
   "file_extension": ".py",
   "mimetype": "text/x-python",
   "name": "python",
   "nbconvert_exporter": "python",
   "pygments_lexer": "ipython3",
   "version": "3.9.16"
  },
  "orig_nbformat": 4
 },
 "nbformat": 4,
 "nbformat_minor": 2
}
